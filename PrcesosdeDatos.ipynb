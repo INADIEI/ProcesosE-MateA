{
 "cells": [
  {
   "cell_type": "markdown",
   "metadata": {},
   "source": [
    "#### Librerias"
   ]
  },
  {
   "cell_type": "code",
   "execution_count": 1,
   "metadata": {},
   "outputs": [],
   "source": [
    "import pandas as pd\n",
    "from datetime import datetime\n",
    "import itertools\n",
    "import numpy as np\n",
    "import Proyecto as pro\n",
    "import math"
   ]
  },
  {
   "cell_type": "markdown",
   "metadata": {},
   "source": [
    "#### Funciones"
   ]
  },
  {
   "cell_type": "code",
   "execution_count": 2,
   "metadata": {},
   "outputs": [],
   "source": [
    "def haversine(lat1, lon1, lat2, lon2):\n",
    "    # Convertir grados a radianes\n",
    "    lat1, lon1, lat2, lon2 = map(np.radians, [lat1, lon1, lat2, lon2])\n",
    "    \n",
    "    # Diferencias entre las coordenadas\n",
    "    dlat = lat2 - lat1\n",
    "    dlon = lon2 - lon1\n",
    "    \n",
    "    # Fórmula de Haversine\n",
    "    a = np.sin(dlat / 2)**2 + np.cos(lat1) * np.cos(lat2) * np.sin(dlon / 2)**2\n",
    "    c = 2 * np.arcsin(np.sqrt(a))\n",
    "    \n",
    "    # Radio de la Tierra en kilómetros (aproximadamente 6371)\n",
    "    R = 6371\n",
    "    distancia = R * c\n",
    "    \n",
    "    return distancia\n",
    "\n",
    "def combine_datetime(date, time):\n",
    "    try:\n",
    "        # Intentar combinar fecha y hora\n",
    "        return pd.to_datetime(date + ' ' + time)\n",
    "    except Exception:\n",
    "        # Si hay un error (por ejemplo, hora incompleta), asignar '00:00:00'\n",
    "        return pd.to_datetime(date + ' ' + '00:00:00')\n",
    "\n",
    "def millas_a_kilometros(millas):\n",
    "    return millas * 1.60934\n",
    "\n",
    "def calcular_distancia(hora_inicio, hora_fin, velocidad_promedio=80):\n",
    "    # Convertir las horas a formato datetime\n",
    "    hora_inicio = pd.to_datetime(hora_inicio)\n",
    "    hora_fin = pd.to_datetime(hora_fin)\n",
    "    \n",
    "    # Calcular la duración en horas\n",
    "    duracion_horas = (hora_fin - hora_inicio).dt.total_seconds() / 3600\n",
    "    \n",
    "    # Calcular la distancia recorrida (distancia = velocidad promedio * tiempo)\n",
    "    distancia_recorrida = velocidad_promedio * duracion_horas\n",
    "    \n",
    "    return distancia_recorrida\n",
    "\n",
    "def extraer_hms(hora_inicio, hora_fin):\n",
    "    diferencias = []\n",
    "    \n",
    "    for inicio, fin in zip(hora_inicio, hora_fin):\n",
    "        diferencia = fin - inicio\n",
    "        \n",
    "        # Extraer horas, minutos y segundos de la diferencia\n",
    "        horas = diferencia.seconds // 3600\n",
    "        minutos = (diferencia.seconds % 3600) // 60\n",
    "        segundos = diferencia.seconds % 60\n",
    "        \n",
    "        # Agregar la diferencia formateada a la lista de resultados\n",
    "        diferencias.append(f\"{horas:02}:{minutos:02}:{segundos:02}\")\n",
    "    \n",
    "    return diferencias"
   ]
  },
  {
   "cell_type": "markdown",
   "metadata": {},
   "source": [
    "#### Lectura de datos"
   ]
  },
  {
   "cell_type": "code",
   "execution_count": 3,
   "metadata": {},
   "outputs": [],
   "source": [
    "uber = pd.read_csv('DataSets/My Uber Drives - 2016.csv')\n",
    "amazon = pd.read_csv('DataSets/amazon_delivery.csv')\n",
    "dataset = pd.read_csv('DataSets/dataset.csv')"
   ]
  },
  {
   "cell_type": "code",
   "execution_count": null,
   "metadata": {},
   "outputs": [],
   "source": []
  },
  {
   "cell_type": "markdown",
   "metadata": {},
   "source": [
    "#### Limpieza y transformación"
   ]
  },
  {
   "cell_type": "code",
   "execution_count": null,
   "metadata": {},
   "outputs": [],
   "source": [
    "#Para Horas\n",
    "#Solo usar en la primera activacion del kernel o abra que reiniciarlo cada vez\n",
    "uber['START_DATE*'] = pd.to_datetime(uber['START_DATE*'], format='%m/%d/%Y %H:%M').dt.strftime('%Y-%m-%d %H:%M:%S')\n",
    "uber['END_DATE*'] = pd.to_datetime(uber['END_DATE*'], format='%m/%d/%Y %H:%M').dt.strftime('%Y-%m-%d %H:%M:%S')\n",
    "\n",
    "\n",
    "temp_uber_SD = pd.to_datetime(uber['START_DATE*'])\n",
    "temp_uber_ED = pd.to_datetime(uber['END_DATE*'])\n",
    "\n",
    "temp_amazon_SD = amazon.apply(lambda row: combine_datetime(row['Order_Date'], row['Order_Time']), axis=1)\n",
    "temp_amazon_ED = amazon.apply(lambda row: combine_datetime(row['Order_Date'], row['Pickup_Time']), axis=1)\n",
    "\n",
    "temp_dataset_SD = pd.to_datetime(dataset['created_at'])\n",
    "temp_dataset_ED = pd.to_datetime(dataset['actual_delivery_time'])\n",
    "\n",
    "#En uber tengo millas\n",
    "#en amazon tengo latitudes y regresa en kilometros\n",
    "\n",
    "#Distancia\n",
    "temp_uber_dist = millas_a_kilometros(uber['MILES*'])\n",
    "temp_amazon_dist = haversine(amazon['Store_Latitude'], amazon['Store_Longitude'],amazon['Drop_Latitude'], amazon['Drop_Longitude'])\n",
    "temp_dataset_dist = calcular_distancia(dataset['created_at'], dataset['actual_delivery_time'])\n",
    "\n",
    "#Tiempo neto\n",
    "temp_uber_time = extraer_hms(temp_uber_SD, temp_uber_ED)\n",
    "temp_amazon_time = extraer_hms(temp_amazon_SD, temp_amazon_ED)\n",
    "temp_dataset_time = extraer_hms(temp_dataset_SD, temp_dataset_ED)\n",
    "\n",
    "#Categorias\n",
    "temp_uber_cap = [\"viaje\"] * len(dataset)\n",
    "temp_amazon_cap = [\"e-commerce\"] * len(amazon)\n",
    "temp_dataset_cap = [\"celiveri\"] * len(dataset)\n",
    "\n",
    "#Veiculo\n",
    "temp_uber_veh = [\"car\"] * len(uber)\n",
    "temp_amazon_veh = amazon['Vehicle']\n",
    "temp_dataset_veh = [\"scooter\"] * len(dataset)\n",
    "\n"
   ]
  },
  {
   "cell_type": "code",
   "execution_count": 5,
   "metadata": {},
   "outputs": [
    {
     "data": {
      "text/plain": [
       "1156"
      ]
     },
     "execution_count": 5,
     "metadata": {},
     "output_type": "execute_result"
    }
   ],
   "source": [
    "len(uber)"
   ]
  },
  {
   "cell_type": "markdown",
   "metadata": {},
   "source": [
    "#### Union"
   ]
  },
  {
   "cell_type": "code",
   "execution_count": 6,
   "metadata": {},
   "outputs": [],
   "source": [
    "fecha_inicio = [temp_amazon_SD, temp_dataset_SD, temp_uber_SD]\n",
    "fecha_fin = [temp_amazon_ED, temp_dataset_ED, temp_uber_ED]\n",
    "tiempo = [temp_amazon_time, temp_dataset_time, temp_uber_time]\n",
    "distancia = [temp_amazon_dist, temp_dataset_dist, temp_uber_dist]\n",
    "categoria = [temp_amazon_cap, temp_dataset_cap, temp_uber_cap]\n",
    "vehiculo = [temp_amazon_veh, temp_dataset_veh, temp_uber_veh]\n",
    "\n",
    "\n",
    "fecha_inicio_flat = list(itertools.chain(*fecha_inicio))\n",
    "fecha_fin_flat = list(itertools.chain(*fecha_fin))\n",
    "tiempo_flat = list(itertools.chain(*tiempo))\n",
    "distancia_flat = list(itertools.chain(*distancia))\n",
    "categoria_flat = list(itertools.chain(*categoria))\n",
    "vehiculo_flat = list(itertools.chain(*vehiculo))\n",
    "\n",
    "dict_temp = {\n",
    "    'Fecha Inicio': fecha_inicio_flat,\n",
    "    'Fecha Fin': fecha_fin_flat,\n",
    "    'Tiempo': tiempo_flat,\n",
    "    'Distancia': distancia_flat,\n",
    "    'Categoria': categoria_flat,\n",
    "    'Vehiculo': vehiculo_flat\n",
    "}\n",
    "\n",
    "BasedeDatos = pd.DataFrame(dict_temp)\n",
    "BasedeDatos = BasedeDatos.dropna(subset=['Fecha Inicio'])\n",
    "BasedeDatos = BasedeDatos.dropna(subset=['Fecha Fin'])"
   ]
  },
  {
   "cell_type": "code",
   "execution_count": 7,
   "metadata": {},
   "outputs": [
    {
     "data": {
      "text/html": [
       "<div>\n",
       "<style scoped>\n",
       "    .dataframe tbody tr th:only-of-type {\n",
       "        vertical-align: middle;\n",
       "    }\n",
       "\n",
       "    .dataframe tbody tr th {\n",
       "        vertical-align: top;\n",
       "    }\n",
       "\n",
       "    .dataframe thead th {\n",
       "        text-align: right;\n",
       "    }\n",
       "</style>\n",
       "<table border=\"1\" class=\"dataframe\">\n",
       "  <thead>\n",
       "    <tr style=\"text-align: right;\">\n",
       "      <th></th>\n",
       "      <th>Fecha Inicio</th>\n",
       "      <th>Fecha Fin</th>\n",
       "      <th>Tiempo</th>\n",
       "      <th>Distancia</th>\n",
       "      <th>Categoria</th>\n",
       "      <th>Vehiculo</th>\n",
       "    </tr>\n",
       "  </thead>\n",
       "  <tbody>\n",
       "    <tr>\n",
       "      <th>0</th>\n",
       "      <td>2022-03-19 11:30:00</td>\n",
       "      <td>2022-03-19 11:45:00</td>\n",
       "      <td>00:15:00</td>\n",
       "      <td>3.025149</td>\n",
       "      <td>Clothing</td>\n",
       "      <td>motorcycle</td>\n",
       "    </tr>\n",
       "    <tr>\n",
       "      <th>1</th>\n",
       "      <td>2022-03-25 19:45:00</td>\n",
       "      <td>2022-03-25 19:50:00</td>\n",
       "      <td>00:05:00</td>\n",
       "      <td>20.183530</td>\n",
       "      <td>Electronics</td>\n",
       "      <td>scooter</td>\n",
       "    </tr>\n",
       "    <tr>\n",
       "      <th>2</th>\n",
       "      <td>2022-03-19 08:30:00</td>\n",
       "      <td>2022-03-19 08:45:00</td>\n",
       "      <td>00:15:00</td>\n",
       "      <td>1.552758</td>\n",
       "      <td>Sports</td>\n",
       "      <td>motorcycle</td>\n",
       "    </tr>\n",
       "    <tr>\n",
       "      <th>3</th>\n",
       "      <td>2022-04-05 18:00:00</td>\n",
       "      <td>2022-04-05 18:10:00</td>\n",
       "      <td>00:10:00</td>\n",
       "      <td>7.790401</td>\n",
       "      <td>Cosmetics</td>\n",
       "      <td>motorcycle</td>\n",
       "    </tr>\n",
       "    <tr>\n",
       "      <th>4</th>\n",
       "      <td>2022-03-26 13:30:00</td>\n",
       "      <td>2022-03-26 13:45:00</td>\n",
       "      <td>00:15:00</td>\n",
       "      <td>6.210138</td>\n",
       "      <td>Toys</td>\n",
       "      <td>scooter</td>\n",
       "    </tr>\n",
       "  </tbody>\n",
       "</table>\n",
       "</div>"
      ],
      "text/plain": [
       "         Fecha Inicio           Fecha Fin    Tiempo  Distancia    Categoria  \\\n",
       "0 2022-03-19 11:30:00 2022-03-19 11:45:00  00:15:00   3.025149     Clothing   \n",
       "1 2022-03-25 19:45:00 2022-03-25 19:50:00  00:05:00  20.183530  Electronics   \n",
       "2 2022-03-19 08:30:00 2022-03-19 08:45:00  00:15:00   1.552758       Sports   \n",
       "3 2022-04-05 18:00:00 2022-04-05 18:10:00  00:10:00   7.790401    Cosmetics   \n",
       "4 2022-03-26 13:30:00 2022-03-26 13:45:00  00:15:00   6.210138         Toys   \n",
       "\n",
       "      Vehiculo  \n",
       "0  motorcycle   \n",
       "1     scooter   \n",
       "2  motorcycle   \n",
       "3  motorcycle   \n",
       "4     scooter   "
      ]
     },
     "execution_count": 7,
     "metadata": {},
     "output_type": "execute_result"
    }
   ],
   "source": [
    "BasedeDatos.head()"
   ]
  },
  {
   "cell_type": "code",
   "execution_count": 8,
   "metadata": {},
   "outputs": [
    {
     "name": "stdout",
     "output_type": "stream",
     "text": [
      "(Timedelta('0 days 09:19:22.447215271'), Timedelta('0 days 09:19:22.811437607'))\n"
     ]
    }
   ],
   "source": [
    "Calculo = pro.MetodoDicotomico(BasedeDatos, 0.1, 0.5)\n",
    "inter = Calculo.aplicarMetodo()\n",
    "print(inter)"
   ]
  }
 ],
 "metadata": {
  "kernelspec": {
   "display_name": "Python 3",
   "language": "python",
   "name": "python3"
  },
  "language_info": {
   "codemirror_mode": {
    "name": "ipython",
    "version": 3
   },
   "file_extension": ".py",
   "mimetype": "text/x-python",
   "name": "python",
   "nbconvert_exporter": "python",
   "pygments_lexer": "ipython3",
   "version": "3.12.3"
  }
 },
 "nbformat": 4,
 "nbformat_minor": 2
}
