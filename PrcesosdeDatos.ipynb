{
 "cells": [
  {
   "cell_type": "markdown",
   "metadata": {},
   "source": [
    "#### Librerias"
   ]
  },
  {
   "cell_type": "code",
   "execution_count": 22,
   "metadata": {},
   "outputs": [],
   "source": [
    "import pandas as pd\n",
    "from datetime import datetime\n",
    "import itertools\n",
    "import numpy as np\n",
    "import Proyecto as pro\n",
    "import random\n",
    "import math\n",
    "from scipy.optimize import minimize"
   ]
  },
  {
   "cell_type": "markdown",
   "metadata": {},
   "source": [
    "#### Funciones"
   ]
  },
  {
   "cell_type": "code",
   "execution_count": 3,
   "metadata": {},
   "outputs": [],
   "source": [
    "def haversine(lat1, lon1, lat2, lon2):\n",
    "    # Convertir grados a radianes\n",
    "    lat1, lon1, lat2, lon2 = map(np.radians, [lat1, lon1, lat2, lon2])\n",
    "    \n",
    "    # Diferencias entre las coordenadas\n",
    "    dlat = lat2 - lat1\n",
    "    dlon = lon2 - lon1\n",
    "    \n",
    "    # Fórmula de Haversine\n",
    "    a = np.sin(dlat / 2)**2 + np.cos(lat1) * np.cos(lat2) * np.sin(dlon / 2)**2\n",
    "    c = 2 * np.arcsin(np.sqrt(a))\n",
    "    \n",
    "    # Radio de la Tierra en kilómetros (aproximadamente 6371)\n",
    "    R = 6371\n",
    "    distancia = R * c\n",
    "    \n",
    "    return distancia\n",
    "\n",
    "def combine_datetime(date, time):\n",
    "    try:\n",
    "        # Intentar combinar fecha y hora\n",
    "        return pd.to_datetime(date + ' ' + time)\n",
    "    except Exception:\n",
    "        # Si hay un error (por ejemplo, hora incompleta), asignar '00:00:00'\n",
    "        return pd.to_datetime(date + ' ' + '00:00:00')\n",
    "\n",
    "def millas_a_kilometros(millas):\n",
    "    return millas * 1.60934\n",
    "\n",
    "def calcular_distancia(hora_inicio, hora_fin, velocidad_promedio=80):\n",
    "    # Convertir las horas a formato datetime\n",
    "    hora_inicio = pd.to_datetime(hora_inicio)\n",
    "    hora_fin = pd.to_datetime(hora_fin)\n",
    "    \n",
    "    # Calcular la duración en horas\n",
    "    duracion_horas = (hora_fin - hora_inicio).dt.total_seconds() / 3600\n",
    "    \n",
    "    # Calcular la distancia recorrida (distancia = velocidad promedio * tiempo)\n",
    "    distancia_recorrida = velocidad_promedio * duracion_horas\n",
    "    \n",
    "    return distancia_recorrida\n",
    "\n",
    "def extraer_hms(hora_inicio, hora_fin):\n",
    "    diferencias = []\n",
    "    \n",
    "    for inicio, fin in zip(hora_inicio, hora_fin):\n",
    "        diferencia = fin - inicio\n",
    "        \n",
    "        # Extraer horas, minutos y segundos de la diferencia\n",
    "        horas = diferencia.seconds // 3600\n",
    "        minutos = (diferencia.seconds % 3600) // 60\n",
    "        segundos = diferencia.seconds % 60\n",
    "        \n",
    "        # Agregar la diferencia formateada a la lista de resultados\n",
    "        diferencias.append(f\"{horas:02}:{minutos:02}:{segundos:02}\")\n",
    "    \n",
    "    return diferencias"
   ]
  },
  {
   "cell_type": "markdown",
   "metadata": {},
   "source": [
    "#### Lectura de datos"
   ]
  },
  {
   "cell_type": "code",
   "execution_count": 4,
   "metadata": {},
   "outputs": [],
   "source": [
    "uber = pd.read_csv('DataSets/My Uber Drives - 2016.csv')\n",
    "amazon = pd.read_csv('DataSets/amazon_delivery.csv')\n",
    "dataset = pd.read_csv('DataSets/dataset.csv')"
   ]
  },
  {
   "cell_type": "code",
   "execution_count": null,
   "metadata": {},
   "outputs": [],
   "source": []
  },
  {
   "cell_type": "markdown",
   "metadata": {},
   "source": [
    "#### Limpieza y transformación"
   ]
  },
  {
   "cell_type": "code",
   "execution_count": 5,
   "metadata": {},
   "outputs": [],
   "source": [
    "#Para Horas\n",
    "#Solo usar en la primera activacion del kernel o abra que reiniciarlo cada vez\n",
    "uber['START_DATE*'] = pd.to_datetime(uber['START_DATE*'], format='%m/%d/%Y %H:%M').dt.strftime('%Y-%m-%d %H:%M:%S')\n",
    "uber['END_DATE*'] = pd.to_datetime(uber['END_DATE*'], format='%m/%d/%Y %H:%M').dt.strftime('%Y-%m-%d %H:%M:%S')\n",
    "\n",
    "\n",
    "temp_uber_SD = pd.to_datetime(uber['START_DATE*'])\n",
    "temp_uber_ED = pd.to_datetime(uber['END_DATE*'])\n",
    "\n",
    "temp_amazon_SD = amazon.apply(lambda row: combine_datetime(row['Order_Date'], row['Order_Time']), axis=1)\n",
    "temp_amazon_ED = amazon.apply(lambda row: combine_datetime(row['Order_Date'], row['Pickup_Time']), axis=1)\n",
    "\n",
    "temp_dataset_SD = pd.to_datetime(dataset['created_at'])\n",
    "temp_dataset_ED = pd.to_datetime(dataset['actual_delivery_time'])\n",
    "\n",
    "#En uber tengo millas\n",
    "#en amazon tengo latitudes y regresa en kilometros\n",
    "\n",
    "#Distancia\n",
    "temp_uber_dist = millas_a_kilometros(uber['MILES*'])\n",
    "temp_amazon_dist = haversine(amazon['Store_Latitude'], amazon['Store_Longitude'],amazon['Drop_Latitude'], amazon['Drop_Longitude'])\n",
    "temp_dataset_dist = calcular_distancia(dataset['created_at'], dataset['actual_delivery_time'])\n",
    "\n",
    "#Tiempo neto\n",
    "temp_uber_time = extraer_hms(temp_uber_SD, temp_uber_ED)\n",
    "temp_amazon_time = extraer_hms(temp_amazon_SD, temp_amazon_ED)\n",
    "temp_dataset_time = extraer_hms(temp_dataset_SD, temp_dataset_ED)\n",
    "\n",
    "#Categorias\n",
    "temp_uber_cap = [\"viaje\"] * len(uber)\n",
    "temp_amazon_cap = [\"e-commerce\"] * len(amazon)\n",
    "temp_dataset_cap = [\"deliveri\"] * len(dataset)\n",
    "\n",
    "#Veiculo\n",
    "temp_uber_veh = [\"van\"] * len(uber)\n",
    "temp_amazon_veh = amazon['Vehicle']\n",
    "temp_dataset_veh = [\"scooter \"] * len(dataset)\n",
    "\n"
   ]
  },
  {
   "cell_type": "code",
   "execution_count": 6,
   "metadata": {},
   "outputs": [
    {
     "data": {
      "text/plain": [
       "1156"
      ]
     },
     "execution_count": 6,
     "metadata": {},
     "output_type": "execute_result"
    }
   ],
   "source": [
    "len(uber)"
   ]
  },
  {
   "cell_type": "markdown",
   "metadata": {},
   "source": [
    "#### Union"
   ]
  },
  {
   "cell_type": "code",
   "execution_count": 8,
   "metadata": {},
   "outputs": [],
   "source": [
    "fecha_inicio = [temp_amazon_SD, temp_dataset_SD, temp_uber_SD]\n",
    "fecha_fin = [temp_amazon_ED, temp_dataset_ED, temp_uber_ED]\n",
    "tiempo = [temp_amazon_time, temp_dataset_time, temp_uber_time]\n",
    "distancia = [temp_amazon_dist, temp_dataset_dist, temp_uber_dist]\n",
    "categoria = [temp_amazon_cap, temp_dataset_cap, temp_uber_cap]\n",
    "vehiculo = [temp_amazon_veh, temp_dataset_veh, temp_uber_veh]\n",
    "\n",
    "\n",
    "\n",
    "fecha_inicio_flat = list(itertools.chain(*fecha_inicio))\n",
    "fecha_fin_flat = list(itertools.chain(*fecha_fin))\n",
    "tiempo_flat = list(itertools.chain(*tiempo))\n",
    "distancia_flat = list(itertools.chain(*distancia))\n",
    "categoria_flat = list(itertools.chain(*categoria))\n",
    "vehiculo_flat = list(itertools.chain(*vehiculo))\n",
    "\n",
    "tam = np.array(fecha_inicio_flat).shape\n",
    "tam = tam[0]**(1/2)\n",
    "tam = round(tam)\n",
    "usuarios = random.choices(range(10000000, 100000000), k=tam)\n",
    "usuarios_flat = [random.choice(usuarios) for _ in range(len(fecha_inicio_flat))]\n",
    "\n",
    "dict_temp = {\n",
    "    'Fecha Inicio': fecha_inicio_flat,\n",
    "    'Fecha Fin': fecha_fin_flat,\n",
    "    'Usuarios': usuarios_flat,\n",
    "    'Tiempo': tiempo_flat,\n",
    "    'Distancia': distancia_flat,\n",
    "    'Categoria': categoria_flat,\n",
    "    'Vehiculo': vehiculo_flat\n",
    "}\n",
    "\n",
    "BasedeDatos = pd.DataFrame(dict_temp)\n",
    "BasedeDatos = BasedeDatos.dropna(subset=['Fecha Inicio'])\n",
    "BasedeDatos = BasedeDatos.dropna(subset=['Fecha Fin'])"
   ]
  },
  {
   "cell_type": "code",
   "execution_count": 9,
   "metadata": {},
   "outputs": [
    {
     "data": {
      "text/plain": [
       "(242315, 7)"
      ]
     },
     "execution_count": 9,
     "metadata": {},
     "output_type": "execute_result"
    }
   ],
   "source": [
    "BasedeDatos.head()\n",
    "BasedeDatos.shape"
   ]
  },
  {
   "cell_type": "code",
   "execution_count": 10,
   "metadata": {},
   "outputs": [],
   "source": [
    "#Exportar la BD\n",
    "BasedeDatos.to_csv(\"DataSet_Final/BasedeDatos.csv\", index=False)"
   ]
  },
  {
   "cell_type": "code",
   "execution_count": 11,
   "metadata": {},
   "outputs": [
    {
     "name": "stdout",
     "output_type": "stream",
     "text": [
      "(Timedelta('0 days 00:11:41.229373932'), Timedelta('0 days 00:11:41.593596268'))\n"
     ]
    }
   ],
   "source": [
    "Dicotomico = pro.MetodoDicotomico(BasedeDatos, 0.1, 0.5)\n",
    "inter = Dicotomico.aplicarMetodo()\n",
    "print(inter)"
   ]
  },
  {
   "cell_type": "code",
   "execution_count": 12,
   "metadata": {},
   "outputs": [
    {
     "name": "stdout",
     "output_type": "stream",
     "text": [
      "(array([0., 0., 0.]), -0.0)\n"
     ]
    }
   ],
   "source": [
    "filtro_1 = BasedeDatos[BasedeDatos['Vehiculo'] == 'scooter ']\n",
    "filtro_2 = BasedeDatos[BasedeDatos['Vehiculo'] == 'motorcycle ']\n",
    "filtro_3 = BasedeDatos[BasedeDatos['Vehiculo'] == 'van']\n",
    "\n",
    "t_1 = pd.to_timedelta(filtro_1['Tiempo']).dt.total_seconds()\n",
    "d_1 = filtro_1['Distancia']\n",
    "v1 = np.sum(t_1)/np.sum(d_1)\n",
    "\n",
    "t_2 = pd.to_timedelta(filtro_2['Tiempo']).dt.total_seconds()\n",
    "d_2 = filtro_2['Distancia']\n",
    "v2 = np.sum(t_2)/np.sum(d_2)\n",
    "\n",
    "t_3 = pd.to_timedelta(filtro_3['Tiempo']).dt.total_seconds()\n",
    "d_3 = filtro_3['Distancia']\n",
    "v3 = np.sum(t_3)/np.sum(d_3)\n",
    "\n",
    "c = np.array([v1, v2, v3])\n",
    "A = np.array([\n",
    "    [1, 0, 0],\n",
    "    [0, 1, 0],\n",
    "    [0, 0, 1]\n",
    "]) \n",
    "b = np.array([43738, 1155, 179428])\n",
    "\n",
    "Simplex = pro.MetodoSimplex(c, A, b)\n",
    "vals = Simplex.aplicarMetodo()\n",
    "print(vals)"
   ]
  },
  {
   "cell_type": "markdown",
   "metadata": {},
   "source": [
    "### Minimizar"
   ]
  },
  {
   "cell_type": "code",
   "execution_count": 43,
   "metadata": {},
   "outputs": [],
   "source": [
    "# Minimizar\n",
    "# Cargar la base de datos (ajusta la ruta si es necesario)\n",
    "df = pd.read_csv(\"DataSet_Final/BasedeDatos.csv\")\n"
   ]
  },
  {
   "cell_type": "code",
   "execution_count": 45,
   "metadata": {},
   "outputs": [],
   "source": [
    "#Separacion\n",
    "# Filtrar el DataFrame original por cada categoría \n",
    "df_ecommerce = df[df['Categoria'] == 'e-commerce'] \n",
    "df_delivery = df[df['Categoria'] == 'deliveri'] \n",
    "df_viaje = df[df['Categoria'] == 'viaje']"
   ]
  },
  {
   "cell_type": "code",
   "execution_count": 55,
   "metadata": {},
   "outputs": [],
   "source": [
    "# Calcular los tiempos y distancias promedio actuales para cada categoría\n",
    "promedio_tiempo = {\n",
    "    'e-commerce': df_ecommerce['Tiempo'].mean(),\n",
    "    'delivery': df_delivery['Tiempo'].mean(),\n",
    "    'transporte': df_viaje['Tiempo'].mean()\n",
    "}\n",
    "promedio_distancia = {\n",
    "    'e-commerce': df_ecommerce['Distancia'].mean(),\n",
    "    'delivery': df_delivery['Distancia'].mean(),\n",
    "    'transporte': df_viaje['Distancia'].mean()\n",
    "}"
   ]
  },
  {
   "cell_type": "markdown",
   "metadata": {},
   "source": [
    "Minimizacion python"
   ]
  },
  {
   "cell_type": "code",
   "execution_count": null,
   "metadata": {},
   "outputs": [
    {
     "name": "stdout",
     "output_type": "stream",
     "text": [
      "Optimization terminated successfully    (Exit mode 0)\n",
      "            Current function value: 0.0\n",
      "            Iterations: 6\n",
      "            Function evaluations: 4\n",
      "            Gradient evaluations: 2\n",
      "Optimization terminated successfully    (Exit mode 0)\n",
      "            Current function value: 0.0\n",
      "            Iterations: 3\n",
      "            Function evaluations: 4\n",
      "            Gradient evaluations: 2\n",
      "Optimization terminated successfully    (Exit mode 0)\n",
      "            Current function value: 0.0\n",
      "            Iterations: 2\n",
      "            Function evaluations: 5\n",
      "            Gradient evaluations: 2\n",
      "Coeficientes aleatorios para e-commerce: {'c1': 0.5706297958759382, 'c2': 0.7305088915300741}\n",
      "Resultados de la optimización para e-commerce:\n",
      "Estado: True\n",
      "Valores óptimos de x: [0.]\n",
      "Función objetivo mínima: 0.0\n",
      "\n",
      "Coeficientes aleatorios para delivery: {'c1': 0.825888927860617, 'c2': 0.5892007204933056}\n",
      "Resultados de la optimización para delivery:\n",
      "Estado: True\n",
      "Valores óptimos de x: [0.]\n",
      "Función objetivo mínima: 0.0\n",
      "\n",
      "Coeficientes aleatorios para transporte: {'c1': 0.8771656160052839, 'c2': 0.892942801293033}\n",
      "Resultados de la optimización para transporte:\n",
      "Estado: True\n",
      "Valores óptimos de x: [0.]\n",
      "Función objetivo mínima: 0.0\n"
     ]
    }
   ],
   "source": [
    "# Asegurarnos de que los promedios no sean NaN ni cero\n",
    "for key in promedio_tiempo:\n",
    "    if np.isnan(promedio_tiempo[key]) or promedio_tiempo[key] == 0:\n",
    "        raise ValueError(f\"El promedio de tiempo para {key} es inválido: {promedio_tiempo[key]}\")\n",
    "\n",
    "# Definir la función de minimización para cada categoría\n",
    "def minimizar_tiempo(categoria):\n",
    "    # Asignar coeficientes aleatorios\n",
    "    coef = {'c1': np.random.uniform(0.1, 1.0), 'c2': np.random.uniform(0.1, 1.0)}\n",
    "    \n",
    "    def objetivo(x):\n",
    "        # x[0]: cantidad de servicios\n",
    "        tiempo_total = x[0] * promedio_tiempo[categoria]\n",
    "        return coef['c1'] * x[0] + coef['c2'] * tiempo_total\n",
    "    \n",
    "    # Definir las restricciones (asegurar no-negatividad)\n",
    "    cons = [{'type': 'ineq', 'fun': lambda x: x[0]}]\n",
    "    \n",
    "    # Límites de las variables (para asegurar que sean no negativas)\n",
    "    bounds = [(0, None)]\n",
    "    \n",
    "    # Realizar la optimización\n",
    "    resultado = minimize(objetivo, x0=[1], constraints=cons, bounds=bounds, method='SLSQP', options={'disp': True})\n",
    "    \n",
    "    return resultado, coef\n",
    "\n",
    "# Aplicar la minimización a cada categoría\n",
    "resultado_ecommerce, coef_ecommerce = minimizar_tiempo('e-commerce')\n",
    "resultado_delivery, coef_delivery = minimizar_tiempo('delivery')\n",
    "resultado_transporte, coef_transporte = minimizar_tiempo('transporte')\n",
    "\n",
    "# Imprimir los coeficientes generados y los resultados\n",
    "print(\"Coeficientes aleatorios para e-commerce:\", coef_ecommerce)\n",
    "print(\"Resultados de la optimización para e-commerce:\")\n",
    "print(\"Estado:\", resultado_ecommerce.success)\n",
    "print(\"Valores óptimos de x:\", resultado_ecommerce.x)\n",
    "print(\"Función objetivo mínima:\", resultado_ecommerce.fun)\n",
    "\n",
    "print(\"\\nCoeficientes aleatorios para delivery:\", coef_delivery)\n",
    "print(\"Resultados de la optimización para delivery:\")\n",
    "print(\"Estado:\", resultado_delivery.success)\n",
    "print(\"Valores óptimos de x:\", resultado_delivery.x)\n",
    "print(\"Función objetivo mínima:\", resultado_delivery.fun)\n",
    "\n",
    "print(\"\\nCoeficientes aleatorios para transporte:\", coef_transporte)\n",
    "print(\"Resultados de la optimización para transporte:\")\n",
    "print(\"Estado:\", resultado_transporte.success)\n",
    "print(\"Valores óptimos de x:\", resultado_transporte.x)\n",
    "print(\"Función objetivo mínima:\", resultado_transporte.fun)\n"
   ]
  },
  {
   "cell_type": "code",
   "execution_count": 62,
   "metadata": {},
   "outputs": [
    {
     "name": "stdout",
     "output_type": "stream",
     "text": [
      "Evaluación de función objetivo para e-commerce: x=[1.], tiempo_total=731.8548663664006, valor_objetivo=220.7729951251104\n",
      "Evaluación de función objetivo para e-commerce: x=[1.00000001], tiempo_total=731.854877271888, valor_objetivo=220.77299841488437\n",
      "Evaluación de función objetivo para e-commerce: x=[0.], tiempo_total=0.0, valor_objetivo=0.0\n",
      "Evaluación de función objetivo para e-commerce: x=[1.49011612e-08], tiempo_total=1.0905487334227572e-05, valor_objetivo=3.289773987607813e-06\n",
      "Optimization terminated successfully    (Exit mode 0)\n",
      "            Current function value: 0.0\n",
      "            Iterations: 3\n",
      "            Function evaluations: 4\n",
      "            Gradient evaluations: 2\n",
      "Evaluación de función objetivo para delivery: x=[1.], tiempo_total=2862.304815597125, valor_objetivo=1240.3801758677919\n",
      "Evaluación de función objetivo para delivery: x=[1.00000001], tiempo_total=2862.3048582487904, valor_objetivo=1240.3801943508968\n",
      "Evaluación de función objetivo para delivery: x=[7.72417707e-07], tiempo_total=0.0022108949214963663, valor_objetivo=0.0009580916108610782\n",
      "Evaluación de función objetivo para delivery: x=[7.87318868e-07], tiempo_total=0.0022535465869395056, valor_objetivo=0.0009765747158033372\n",
      "Evaluación de función objetivo para delivery: x=[2.88868705e-07], tiempo_total=0.0008268302852716016, valor_objetivo=0.00035830701505634423\n",
      "Optimization terminated successfully    (Exit mode 0)\n",
      "            Current function value: 0.00035830701505634423\n",
      "            Iterations: 3\n",
      "            Function evaluations: 5\n",
      "            Gradient evaluations: 2\n",
      "Evaluación de función objetivo para transporte: x=[1.], tiempo_total=1394.5974025974026, valor_objetivo=300.50490955091993\n",
      "Evaluación de función objetivo para transporte: x=[1.00000001], tiempo_total=1394.5974233785232, valor_objetivo=300.504914028792\n",
      "Evaluación de función objetivo para transporte: x=[8.76053718e-09], tiempo_total=1.2217422402960886e-05, valor_objetivo=2.6325844342670234e-06\n",
      "Evaluación de función objetivo para transporte: x=[2.36616984e-08], tiempo_total=3.299854309958604e-05, valor_objetivo=7.110456531027891e-06\n",
      "Evaluación de función objetivo para transporte: x=[0.], tiempo_total=0.0, valor_objetivo=0.0\n",
      "Optimization terminated successfully    (Exit mode 0)\n",
      "            Current function value: 0.0\n",
      "            Iterations: 2\n",
      "            Function evaluations: 5\n",
      "            Gradient evaluations: 2\n",
      "Coeficientes aleatorios para e-commerce: {'c1': 0.5639874200779369, 'c2': 0.30089163552105913}\n",
      "Resultados de la optimización para e-commerce:\n",
      "Estado: True\n",
      "Valores óptimos de x: [0.]\n",
      "Función objetivo mínima: 0.0\n",
      "\n",
      "Coeficientes aleatorios para delivery: {'c1': 0.5011124235204955, 'c2': 0.4331750611213683}\n",
      "Resultados de la optimización para delivery:\n",
      "Estado: True\n",
      "Valores óptimos de x: [2.88868705e-07]\n",
      "Función objetivo mínima: 0.00035830701505634423\n",
      "\n",
      "Coeficientes aleatorios para transporte: {'c1': 0.6698399621210405, 'c2': 0.21499758211965947}\n",
      "Resultados de la optimización para transporte:\n",
      "Estado: True\n",
      "Valores óptimos de x: [0.]\n",
      "Función objetivo mínima: 0.0\n"
     ]
    }
   ],
   "source": [
    "import pandas as pd\n",
    "import numpy as np\n",
    "from scipy.optimize import minimize\n",
    "\n",
    "\n",
    "\n",
    "# Asegurarnos de que los promedios no sean NaN ni cero\n",
    "for key in promedio_tiempo:\n",
    "    if np.isnan(promedio_tiempo[key]) or promedio_tiempo[key] == 0:\n",
    "        raise ValueError(f\"El promedio de tiempo para {key} es inválido: {promedio_tiempo[key]}\")\n",
    "\n",
    "# Definir la función de minimización para cada categoría\n",
    "def minimizar_tiempo(categoria):\n",
    "    # Asignar coeficientes aleatorios\n",
    "    coef = {'c1': np.random.uniform(0.1, 1.0), 'c2': np.random.uniform(0.1, 1.0)}\n",
    "    \n",
    "    def objetivo(x):\n",
    "        # x[0]: cantidad de servicios\n",
    "        tiempo_total = x[0] * promedio_tiempo[categoria]\n",
    "        valor_objetivo = coef['c1'] * x[0] + coef['c2'] * tiempo_total\n",
    "        print(f\"Evaluación de función objetivo para {categoria}: x={x}, tiempo_total={tiempo_total}, valor_objetivo={valor_objetivo}\")\n",
    "        return valor_objetivo\n",
    "    \n",
    "    # Definir las restricciones (asegurar no-negatividad)\n",
    "    cons = [{'type': 'ineq', 'fun': lambda x: x[0]}]\n",
    "    \n",
    "    # Límites de las variables (para asegurar que sean no negativas)\n",
    "    bounds = [(0, None)]\n",
    "    \n",
    "    # Realizar la optimización\n",
    "    resultado = minimize(objetivo, x0=[1], constraints=cons, bounds=bounds, method='SLSQP', options={'disp': True})\n",
    "    \n",
    "    return resultado, coef\n",
    "\n",
    "# Aplicar la minimización a cada categoría\n",
    "resultado_ecommerce, coef_ecommerce = minimizar_tiempo('e-commerce')\n",
    "resultado_delivery, coef_delivery = minimizar_tiempo('delivery')\n",
    "resultado_transporte, coef_transporte = minimizar_tiempo('transporte')\n",
    "\n",
    "# Imprimir los coeficientes generados y los resultados\n",
    "print(\"Coeficientes aleatorios para e-commerce:\", coef_ecommerce)\n",
    "print(\"Resultados de la optimización para e-commerce:\")\n",
    "print(\"Estado:\", resultado_ecommerce.success)\n",
    "print(\"Valores óptimos de x:\", resultado_ecommerce.x)\n",
    "print(\"Función objetivo mínima:\", resultado_ecommerce.fun)\n",
    "\n",
    "print(\"\\nCoeficientes aleatorios para delivery:\", coef_delivery)\n",
    "print(\"Resultados de la optimización para delivery:\")\n",
    "print(\"Estado:\", resultado_delivery.success)\n",
    "print(\"Valores óptimos de x:\", resultado_delivery.x)\n",
    "print(\"Función objetivo mínima:\", resultado_delivery.fun)\n",
    "\n",
    "print(\"\\nCoeficientes aleatorios para transporte:\", coef_transporte)\n",
    "print(\"Resultados de la optimización para transporte:\")\n",
    "print(\"Estado:\", resultado_transporte.success)\n",
    "print(\"Valores óptimos de x:\", resultado_transporte.x)\n",
    "print(\"Función objetivo mínima:\", resultado_transporte.fun)\n"
   ]
  }
 ],
 "metadata": {
  "kernelspec": {
   "display_name": "Python 3",
   "language": "python",
   "name": "python3"
  },
  "language_info": {
   "codemirror_mode": {
    "name": "ipython",
    "version": 3
   },
   "file_extension": ".py",
   "mimetype": "text/x-python",
   "name": "python",
   "nbconvert_exporter": "python",
   "pygments_lexer": "ipython3",
   "version": "3.12.2"
  }
 },
 "nbformat": 4,
 "nbformat_minor": 2
}
